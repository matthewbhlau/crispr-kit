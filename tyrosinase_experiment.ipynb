{
  "nbformat": 4,
  "nbformat_minor": 0,
  "metadata": {
    "colab": {
      "provenance": [],
      "include_colab_link": true
    },
    "kernelspec": {
      "name": "python3",
      "display_name": "Python 3"
    },
    "language_info": {
      "name": "python"
    }
  },
  "cells": [
    {
      "cell_type": "markdown",
      "metadata": {
        "id": "view-in-github",
        "colab_type": "text"
      },
      "source": [
        "<a href=\"https://colab.research.google.com/github/matthewbhlau/crispr-kit/blob/main/tyrosinase_experiment.ipynb\" target=\"_parent\"><img src=\"https://colab.research.google.com/assets/colab-badge.svg\" alt=\"Open In Colab\"/></a>"
      ]
    },
    {
      "cell_type": "code",
      "execution_count": null,
      "metadata": {
        "id": "psELI5LDxgOY"
      },
      "outputs": [],
      "source": [
        "import numpy as np\n",
        "from matplotlib import pyplot as plt\n",
        "import math\n",
        "from google.colab import files\n",
        "import cv2\n",
        "import os"
      ]
    },
    {
      "cell_type": "code",
      "source": [
        "# Upload files (images in black and white)\n",
        "def upload_file(prompt):\n",
        "  print(prompt)\n",
        "  uploaded = files.upload()\n",
        "  return next(iter(uploaded))"
      ],
      "metadata": {
        "id": "JVWaRR9Pzb5d"
      },
      "execution_count": null,
      "outputs": []
    },
    {
      "cell_type": "code",
      "source": [
        "# Find average pixel values for all images\n",
        "def analysis(*image_paths):\n",
        "  total_pix_vals = []\n",
        "  for i, image_path in enumerate(image_paths):\n",
        "    img = cv2.imread(image_path)\n",
        "    pix_val = np.mean(img)\n",
        "    total_pix_vals.append(pix_val)\n",
        "  return total_pix_vals"
      ],
      "metadata": {
        "id": "2g_L0IAczoUQ"
      },
      "execution_count": null,
      "outputs": []
    },
    {
      "cell_type": "code",
      "source": [
        "# Return expression levels - by subtracting each value by the negative control value\n",
        "def find_expressions(total_pix_vals):\n",
        "  expressions = []\n",
        "  for i in range(len(total_pix_vals)):\n",
        "    nc = total_pix_vals[0]\n",
        "    diff = nc - total_pix_vals[i]\n",
        "    expressions.append(diff)\n",
        "  return expressions\n"
      ],
      "metadata": {
        "id": "wW-Kfi8W-ZS0"
      },
      "execution_count": null,
      "outputs": []
    },
    {
      "cell_type": "code",
      "source": [
        "# Plot out original pixel values from analysis function\n",
        "def original_plot(total_pix_vals):\n",
        "  bar_width = 0.35\n",
        "  index = np.arange(len(total_pix_vals))\n",
        "\n",
        "  # Create a bar chart\n",
        "  #plt.figure(figsize=(10, 5))  # Set the figure size for better visibility\n",
        "  plt.bar(index, total_pix_vals, bar_width, label='Pixel Values')\n",
        "\n",
        "  plt.xlabel('Conditions')  # Label for the x-axis\n",
        "  plt.ylabel('Pixel Value')  # Label for the y-axis\n",
        "  plt.title('Tyrosinase Experiment')  # Title of the plot\n",
        "\n",
        "  plt.show()\n",
        "\n"
      ],
      "metadata": {
        "id": "esMTKNnD4oWS"
      },
      "execution_count": null,
      "outputs": []
    },
    {
      "cell_type": "code",
      "source": [
        "# Plot out the expression values from find_expressions function\n",
        "def new_plot(expressions):\n",
        "  bar_width = 0.35\n",
        "  index = np.arange(len(expressions))\n",
        "\n",
        "  # Create a bar chart\n",
        "  #plt.figure(figsize=(10, 5))  # Set the figure size for better visibility\n",
        "  plt.bar(index, expressions, bar_width, label='Pixel Values')\n",
        "\n",
        "  plt.xlabel('Conditions')  # Label for the x-axis\n",
        "  plt.ylabel('Expression')  # Label for the y-axis\n",
        "  plt.title('Tyrosinase Experiment')  # Title of the plot\n",
        "\n",
        "  plt.show()"
      ],
      "metadata": {
        "id": "RftDbdjq_HNE"
      },
      "execution_count": null,
      "outputs": []
    },
    {
      "cell_type": "code",
      "source": [
        "def main():\n",
        "    # Ask the user to upload the images.\n",
        "    uploaded = files.upload()\n",
        "\n",
        "    # The keys of 'uploaded' are the filenames of the uploaded files.\n",
        "    image_paths = list(uploaded.keys())\n",
        "\n",
        "    # Sort files based on last modified time\n",
        "    image_paths.sort(key=os.path.getmtime)\n",
        "\n",
        "    total_pix_vals = analysis(*image_paths)\n",
        "    expressions = find_expressions(total_pix_vals)\n",
        "    original_plot(total_pix_vals)\n",
        "    new_plot(expressions)\n",
        "\n",
        "if __name__ == \"__main__\":\n",
        "    main()\n",
        "\n",
        "\n"
      ],
      "metadata": {
        "colab": {
          "base_uri": "https://localhost:8080/",
          "height": 1000
        },
        "id": "iZeSnWpo46po",
        "outputId": "c2251fcc-86b9-4532-d48b-89671a03b27f"
      },
      "execution_count": null,
      "outputs": [
        {
          "output_type": "display_data",
          "data": {
            "text/plain": [
              "<IPython.core.display.HTML object>"
            ],
            "text/html": [
              "\n",
              "     <input type=\"file\" id=\"files-55d48a41-c7ea-42ce-8062-b4afcaee59d0\" name=\"files[]\" multiple disabled\n",
              "        style=\"border:none\" />\n",
              "     <output id=\"result-55d48a41-c7ea-42ce-8062-b4afcaee59d0\">\n",
              "      Upload widget is only available when the cell has been executed in the\n",
              "      current browser session. Please rerun this cell to enable.\n",
              "      </output>\n",
              "      <script>// Copyright 2017 Google LLC\n",
              "//\n",
              "// Licensed under the Apache License, Version 2.0 (the \"License\");\n",
              "// you may not use this file except in compliance with the License.\n",
              "// You may obtain a copy of the License at\n",
              "//\n",
              "//      http://www.apache.org/licenses/LICENSE-2.0\n",
              "//\n",
              "// Unless required by applicable law or agreed to in writing, software\n",
              "// distributed under the License is distributed on an \"AS IS\" BASIS,\n",
              "// WITHOUT WARRANTIES OR CONDITIONS OF ANY KIND, either express or implied.\n",
              "// See the License for the specific language governing permissions and\n",
              "// limitations under the License.\n",
              "\n",
              "/**\n",
              " * @fileoverview Helpers for google.colab Python module.\n",
              " */\n",
              "(function(scope) {\n",
              "function span(text, styleAttributes = {}) {\n",
              "  const element = document.createElement('span');\n",
              "  element.textContent = text;\n",
              "  for (const key of Object.keys(styleAttributes)) {\n",
              "    element.style[key] = styleAttributes[key];\n",
              "  }\n",
              "  return element;\n",
              "}\n",
              "\n",
              "// Max number of bytes which will be uploaded at a time.\n",
              "const MAX_PAYLOAD_SIZE = 100 * 1024;\n",
              "\n",
              "function _uploadFiles(inputId, outputId) {\n",
              "  const steps = uploadFilesStep(inputId, outputId);\n",
              "  const outputElement = document.getElementById(outputId);\n",
              "  // Cache steps on the outputElement to make it available for the next call\n",
              "  // to uploadFilesContinue from Python.\n",
              "  outputElement.steps = steps;\n",
              "\n",
              "  return _uploadFilesContinue(outputId);\n",
              "}\n",
              "\n",
              "// This is roughly an async generator (not supported in the browser yet),\n",
              "// where there are multiple asynchronous steps and the Python side is going\n",
              "// to poll for completion of each step.\n",
              "// This uses a Promise to block the python side on completion of each step,\n",
              "// then passes the result of the previous step as the input to the next step.\n",
              "function _uploadFilesContinue(outputId) {\n",
              "  const outputElement = document.getElementById(outputId);\n",
              "  const steps = outputElement.steps;\n",
              "\n",
              "  const next = steps.next(outputElement.lastPromiseValue);\n",
              "  return Promise.resolve(next.value.promise).then((value) => {\n",
              "    // Cache the last promise value to make it available to the next\n",
              "    // step of the generator.\n",
              "    outputElement.lastPromiseValue = value;\n",
              "    return next.value.response;\n",
              "  });\n",
              "}\n",
              "\n",
              "/**\n",
              " * Generator function which is called between each async step of the upload\n",
              " * process.\n",
              " * @param {string} inputId Element ID of the input file picker element.\n",
              " * @param {string} outputId Element ID of the output display.\n",
              " * @return {!Iterable<!Object>} Iterable of next steps.\n",
              " */\n",
              "function* uploadFilesStep(inputId, outputId) {\n",
              "  const inputElement = document.getElementById(inputId);\n",
              "  inputElement.disabled = false;\n",
              "\n",
              "  const outputElement = document.getElementById(outputId);\n",
              "  outputElement.innerHTML = '';\n",
              "\n",
              "  const pickedPromise = new Promise((resolve) => {\n",
              "    inputElement.addEventListener('change', (e) => {\n",
              "      resolve(e.target.files);\n",
              "    });\n",
              "  });\n",
              "\n",
              "  const cancel = document.createElement('button');\n",
              "  inputElement.parentElement.appendChild(cancel);\n",
              "  cancel.textContent = 'Cancel upload';\n",
              "  const cancelPromise = new Promise((resolve) => {\n",
              "    cancel.onclick = () => {\n",
              "      resolve(null);\n",
              "    };\n",
              "  });\n",
              "\n",
              "  // Wait for the user to pick the files.\n",
              "  const files = yield {\n",
              "    promise: Promise.race([pickedPromise, cancelPromise]),\n",
              "    response: {\n",
              "      action: 'starting',\n",
              "    }\n",
              "  };\n",
              "\n",
              "  cancel.remove();\n",
              "\n",
              "  // Disable the input element since further picks are not allowed.\n",
              "  inputElement.disabled = true;\n",
              "\n",
              "  if (!files) {\n",
              "    return {\n",
              "      response: {\n",
              "        action: 'complete',\n",
              "      }\n",
              "    };\n",
              "  }\n",
              "\n",
              "  for (const file of files) {\n",
              "    const li = document.createElement('li');\n",
              "    li.append(span(file.name, {fontWeight: 'bold'}));\n",
              "    li.append(span(\n",
              "        `(${file.type || 'n/a'}) - ${file.size} bytes, ` +\n",
              "        `last modified: ${\n",
              "            file.lastModifiedDate ? file.lastModifiedDate.toLocaleDateString() :\n",
              "                                    'n/a'} - `));\n",
              "    const percent = span('0% done');\n",
              "    li.appendChild(percent);\n",
              "\n",
              "    outputElement.appendChild(li);\n",
              "\n",
              "    const fileDataPromise = new Promise((resolve) => {\n",
              "      const reader = new FileReader();\n",
              "      reader.onload = (e) => {\n",
              "        resolve(e.target.result);\n",
              "      };\n",
              "      reader.readAsArrayBuffer(file);\n",
              "    });\n",
              "    // Wait for the data to be ready.\n",
              "    let fileData = yield {\n",
              "      promise: fileDataPromise,\n",
              "      response: {\n",
              "        action: 'continue',\n",
              "      }\n",
              "    };\n",
              "\n",
              "    // Use a chunked sending to avoid message size limits. See b/62115660.\n",
              "    let position = 0;\n",
              "    do {\n",
              "      const length = Math.min(fileData.byteLength - position, MAX_PAYLOAD_SIZE);\n",
              "      const chunk = new Uint8Array(fileData, position, length);\n",
              "      position += length;\n",
              "\n",
              "      const base64 = btoa(String.fromCharCode.apply(null, chunk));\n",
              "      yield {\n",
              "        response: {\n",
              "          action: 'append',\n",
              "          file: file.name,\n",
              "          data: base64,\n",
              "        },\n",
              "      };\n",
              "\n",
              "      let percentDone = fileData.byteLength === 0 ?\n",
              "          100 :\n",
              "          Math.round((position / fileData.byteLength) * 100);\n",
              "      percent.textContent = `${percentDone}% done`;\n",
              "\n",
              "    } while (position < fileData.byteLength);\n",
              "  }\n",
              "\n",
              "  // All done.\n",
              "  yield {\n",
              "    response: {\n",
              "      action: 'complete',\n",
              "    }\n",
              "  };\n",
              "}\n",
              "\n",
              "scope.google = scope.google || {};\n",
              "scope.google.colab = scope.google.colab || {};\n",
              "scope.google.colab._files = {\n",
              "  _uploadFiles,\n",
              "  _uploadFilesContinue,\n",
              "};\n",
              "})(self);\n",
              "</script> "
            ]
          },
          "metadata": {}
        },
        {
          "output_type": "stream",
          "name": "stdout",
          "text": [
            "Saving Screenshot 2024-04-23 at 3.40.05 PM.png to Screenshot 2024-04-23 at 3.40.05 PM.png\n",
            "Saving Screenshot 2024-04-23 at 3.40.08 PM.png to Screenshot 2024-04-23 at 3.40.08 PM.png\n",
            "Saving Screenshot 2024-04-23 at 3.40.11 PM.png to Screenshot 2024-04-23 at 3.40.11 PM.png\n",
            "Saving Screenshot 2024-04-23 at 3.40.13 PM.png to Screenshot 2024-04-23 at 3.40.13 PM.png\n",
            "Saving Screenshot 2024-04-23 at 3.40.16 PM.png to Screenshot 2024-04-23 at 3.40.16 PM.png\n",
            "Saving Screenshot 2024-04-23 at 3.40.18 PM.png to Screenshot 2024-04-23 at 3.40.18 PM.png\n",
            "Saving Screenshot 2024-04-23 at 3.40.21 PM.png to Screenshot 2024-04-23 at 3.40.21 PM.png\n",
            "Saving Screenshot 2024-04-23 at 3.40.23 PM.png to Screenshot 2024-04-23 at 3.40.23 PM.png\n",
            "Saving Screenshot 2024-04-23 at 3.40.26 PM.png to Screenshot 2024-04-23 at 3.40.26 PM.png\n",
            "[0.0, 115.5839900362319, 115.83394491000938, -1.9410099637680958, 100.56388245884774, 104.83429725697441, 103.15583881578948, -0.7530019134846953, -5.039150776836152]\n"
          ]
        },
        {
          "output_type": "display_data",
          "data": {
            "text/plain": [
              "<Figure size 640x480 with 1 Axes>"
            ],
            "image/png": "[encoded data removed]"
          },
          "metadata": {}
        },
        {
          "output_type": "display_data",
          "data": {
            "text/plain": [
              "<Figure size 640x480 with 1 Axes>"
            ],
            "image/png": "[encoded data removed]"
          },
          "metadata": {}
        }
      ]
    }
  ]
}