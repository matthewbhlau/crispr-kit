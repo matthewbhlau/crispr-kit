{
  "cells": [
    {
      "cell_type": "markdown",
      "metadata": {
        "id": "view-in-github",
        "colab_type": "text"
      },
      "source": [
        "<a href=\"https://colab.research.google.com/github/matthewbhlau/crispr-kit/blob/main/single_color.ipynb\" target=\"_parent\"><img src=\"https://colab.research.google.com/assets/colab-badge.svg\" alt=\"Open In Colab\"/></a>"
      ]
    },
    {
      "cell_type": "code",
      "execution_count": null,
      "metadata": {
        "id": "2eFnZty6afHn"
      },
      "outputs": [],
      "source": [
        "import cv2\n",
        "import numpy as np\n",
        "from matplotlib import pyplot as plt\n",
        "import math\n",
        "from google.colab import files\n",
        "import os\n"
      ]
    },
    {
      "cell_type": "code",
      "execution_count": null,
      "metadata": {
        "id": "vWzgnCa1O0o3"
      },
      "outputs": [],
      "source": [
        "def upload_file(prompt):\n",
        "    print(prompt)\n",
        "    uploaded = files.upload()\n",
        "    # The keys of 'uploaded' are the filenames of the uploaded files.\n",
        "    # We assume here that exactly one file was uploaded.\n",
        "    return next(iter(uploaded))"
      ]
    },
    {
      "cell_type": "code",
      "execution_count": null,
      "metadata": {
        "id": "-37P7AIKULyO"
      },
      "outputs": [],
      "source": [
        "'''\n",
        "This function takes in the 6 cropped images/conditions and calculates the mean\n",
        "RGB values of the images. Returns a list with total rgb values (18 total)\n",
        "\n",
        "[NC, PC, NT, RT, YT, BT]\n",
        "'''\n",
        "def rgb_analysis(*image_paths):\n",
        "    total_rgb = []\n",
        "    for i, image_path in enumerate(image_paths):\n",
        "        ind_rgb = []\n",
        "        # Load the image\n",
        "        img = cv2.imread(image_path)\n",
        "        # Split the image into its Red, Green, and Blue channels\n",
        "        b, g, r = cv2.split(img)\n",
        "        # Calculate the mean RGB values for each channel and add to list\n",
        "        r_mean = np.mean(r)\n",
        "        ind_rgb.append(r_mean)\n",
        "        g_mean = np.mean(g)\n",
        "        ind_rgb.append(g_mean)\n",
        "        b_mean = np.mean(b)\n",
        "        ind_rgb.append(b_mean)\n",
        "        total_rgb.append(ind_rgb)\n",
        "        print(f\"Image {i + 1} RGB values: R={r_mean}, G={g_mean}, B={b_mean}\")\n",
        "    return total_rgb"
      ]
    },
    {
      "cell_type": "code",
      "execution_count": null,
      "metadata": {
        "id": "TwW2CzLRyRgz"
      },
      "outputs": [],
      "source": [
        "'''\n",
        "This function takes in the raw rgb values and computes the relative expression levels.\n",
        "Output is a list with the 6 relative expression values\n",
        "'''\n",
        "def relative_expression(conditions):\n",
        "    r_nc = conditions[0][0]\n",
        "    g_nc = conditions[0][1]\n",
        "    y_nc = conditions[0][2]\n",
        "    for condition in conditions:\n",
        "        condition[0] -= r_nc\n",
        "        condition[1] -= g_nc\n",
        "        condition[2] -= y_nc\n",
        "    # dimensional reduction\n",
        "    reductions = []\n",
        "    r_pc = conditions[1][0]\n",
        "    g_pc = conditions[1][1]\n",
        "    y_pc = conditions[1][2]\n",
        "    denom = math.sqrt(r_pc ** 2 + g_pc ** 2 + y_pc ** 2)\n",
        "    for new in conditions:\n",
        "        reductions.append((new[0] * r_pc + new[1] * g_pc + new[2] * y_pc) / denom)\n",
        "    express_vals = []\n",
        "    pc_val = reductions[1]\n",
        "    for reduction in reductions:\n",
        "        express_vals.append(reduction / pc_val)\n",
        "\n",
        "    return express_vals"
      ]
    },
    {
      "cell_type": "code",
      "execution_count": null,
      "metadata": {
        "id": "S5nZFfc5teX3"
      },
      "outputs": [],
      "source": [
        "def expression_plot(express_vals, filename):\n",
        "    # positions for the bars\n",
        "    bar_width = 0.35\n",
        "    index = range(len(express_vals))\n",
        "\n",
        "    # creating the bars\n",
        "    fig, ax = plt.subplots()\n",
        "    bar1 = ax.bar(index, express_vals, bar_width, label=\"Expression\", color='yellow')\n",
        "\n",
        "    # adding the blue line at y=0\n",
        "    ax.axhline(0, color='blue')\n",
        "\n",
        "    # adding labels and title\n",
        "    ax.set_xlabel('Conditions')\n",
        "    ax.set_ylabel('Relative Expression values')\n",
        "    ax.set_title('Relative Expression')\n",
        "    ax.set_xticks(index)  # Set the tick positions to match the number of labels\n",
        "    ax.set_xticklabels(('NC', 'PC', 'NT', 'RT', 'YT', 'BT'))  # Set the tick labels\n",
        "\n",
        "    # Save the plot as a JPG file\n",
        "    plt.savefig(filename, dpi=300)\n",
        "\n",
        "    # Display the plot\n",
        "    plt.show()\n"
      ]
    },
    {
      "cell_type": "code",
      "execution_count": null,
      "metadata": {
        "colab": {
          "base_uri": "https://localhost:8080/",
          "height": 1000
        },
        "id": "pG8o2aKeu6ba",
        "outputId": "d59039af-120d-4ba2-b925-49a4e11a0a61"
      },
      "outputs": [
        {
          "output_type": "display_data",
          "data": {
            "text/plain": [
              "<IPython.core.display.HTML object>"
            ],
            "text/html": [
              "\n",
              "     <input type=\"file\" id=\"files-490b9278-f587-4a2b-8e82-f1208fa97095\" name=\"files[]\" multiple disabled\n",
              "        style=\"border:none\" />\n",
              "     <output id=\"result-490b9278-f587-4a2b-8e82-f1208fa97095\">\n",
              "      Upload widget is only available when the cell has been executed in the\n",
              "      current browser session. Please rerun this cell to enable.\n",
              "      </output>\n",
              "      <script>// Copyright 2017 Google LLC\n",
              "//\n",
              "// Licensed under the Apache License, Version 2.0 (the \"License\");\n",
              "// you may not use this file except in compliance with the License.\n",
              "// You may obtain a copy of the License at\n",
              "//\n",
              "//      http://www.apache.org/licenses/LICENSE-2.0\n",
              "//\n",
              "// Unless required by applicable law or agreed to in writing, software\n",
              "// distributed under the License is distributed on an \"AS IS\" BASIS,\n",
              "// WITHOUT WARRANTIES OR CONDITIONS OF ANY KIND, either express or implied.\n",
              "// See the License for the specific language governing permissions and\n",
              "// limitations under the License.\n",
              "\n",
              "/**\n",
              " * @fileoverview Helpers for google.colab Python module.\n",
              " */\n",
              "(function(scope) {\n",
              "function span(text, styleAttributes = {}) {\n",
              "  const element = document.createElement('span');\n",
              "  element.textContent = text;\n",
              "  for (const key of Object.keys(styleAttributes)) {\n",
              "    element.style[key] = styleAttributes[key];\n",
              "  }\n",
              "  return element;\n",
              "}\n",
              "\n",
              "// Max number of bytes which will be uploaded at a time.\n",
              "const MAX_PAYLOAD_SIZE = 100 * 1024;\n",
              "\n",
              "function _uploadFiles(inputId, outputId) {\n",
              "  const steps = uploadFilesStep(inputId, outputId);\n",
              "  const outputElement = document.getElementById(outputId);\n",
              "  // Cache steps on the outputElement to make it available for the next call\n",
              "  // to uploadFilesContinue from Python.\n",
              "  outputElement.steps = steps;\n",
              "\n",
              "  return _uploadFilesContinue(outputId);\n",
              "}\n",
              "\n",
              "// This is roughly an async generator (not supported in the browser yet),\n",
              "// where there are multiple asynchronous steps and the Python side is going\n",
              "// to poll for completion of each step.\n",
              "// This uses a Promise to block the python side on completion of each step,\n",
              "// then passes the result of the previous step as the input to the next step.\n",
              "function _uploadFilesContinue(outputId) {\n",
              "  const outputElement = document.getElementById(outputId);\n",
              "  const steps = outputElement.steps;\n",
              "\n",
              "  const next = steps.next(outputElement.lastPromiseValue);\n",
              "  return Promise.resolve(next.value.promise).then((value) => {\n",
              "    // Cache the last promise value to make it available to the next\n",
              "    // step of the generator.\n",
              "    outputElement.lastPromiseValue = value;\n",
              "    return next.value.response;\n",
              "  });\n",
              "}\n",
              "\n",
              "/**\n",
              " * Generator function which is called between each async step of the upload\n",
              " * process.\n",
              " * @param {string} inputId Element ID of the input file picker element.\n",
              " * @param {string} outputId Element ID of the output display.\n",
              " * @return {!Iterable<!Object>} Iterable of next steps.\n",
              " */\n",
              "function* uploadFilesStep(inputId, outputId) {\n",
              "  const inputElement = document.getElementById(inputId);\n",
              "  inputElement.disabled = false;\n",
              "\n",
              "  const outputElement = document.getElementById(outputId);\n",
              "  outputElement.innerHTML = '';\n",
              "\n",
              "  const pickedPromise = new Promise((resolve) => {\n",
              "    inputElement.addEventListener('change', (e) => {\n",
              "      resolve(e.target.files);\n",
              "    });\n",
              "  });\n",
              "\n",
              "  const cancel = document.createElement('button');\n",
              "  inputElement.parentElement.appendChild(cancel);\n",
              "  cancel.textContent = 'Cancel upload';\n",
              "  const cancelPromise = new Promise((resolve) => {\n",
              "    cancel.onclick = () => {\n",
              "      resolve(null);\n",
              "    };\n",
              "  });\n",
              "\n",
              "  // Wait for the user to pick the files.\n",
              "  const files = yield {\n",
              "    promise: Promise.race([pickedPromise, cancelPromise]),\n",
              "    response: {\n",
              "      action: 'starting',\n",
              "    }\n",
              "  };\n",
              "\n",
              "  cancel.remove();\n",
              "\n",
              "  // Disable the input element since further picks are not allowed.\n",
              "  inputElement.disabled = true;\n",
              "\n",
              "  if (!files) {\n",
              "    return {\n",
              "      response: {\n",
              "        action: 'complete',\n",
              "      }\n",
              "    };\n",
              "  }\n",
              "\n",
              "  for (const file of files) {\n",
              "    const li = document.createElement('li');\n",
              "    li.append(span(file.name, {fontWeight: 'bold'}));\n",
              "    li.append(span(\n",
              "        `(${file.type || 'n/a'}) - ${file.size} bytes, ` +\n",
              "        `last modified: ${\n",
              "            file.lastModifiedDate ? file.lastModifiedDate.toLocaleDateString() :\n",
              "                                    'n/a'} - `));\n",
              "    const percent = span('0% done');\n",
              "    li.appendChild(percent);\n",
              "\n",
              "    outputElement.appendChild(li);\n",
              "\n",
              "    const fileDataPromise = new Promise((resolve) => {\n",
              "      const reader = new FileReader();\n",
              "      reader.onload = (e) => {\n",
              "        resolve(e.target.result);\n",
              "      };\n",
              "      reader.readAsArrayBuffer(file);\n",
              "    });\n",
              "    // Wait for the data to be ready.\n",
              "    let fileData = yield {\n",
              "      promise: fileDataPromise,\n",
              "      response: {\n",
              "        action: 'continue',\n",
              "      }\n",
              "    };\n",
              "\n",
              "    // Use a chunked sending to avoid message size limits. See b/62115660.\n",
              "    let position = 0;\n",
              "    do {\n",
              "      const length = Math.min(fileData.byteLength - position, MAX_PAYLOAD_SIZE);\n",
              "      const chunk = new Uint8Array(fileData, position, length);\n",
              "      position += length;\n",
              "\n",
              "      const base64 = btoa(String.fromCharCode.apply(null, chunk));\n",
              "      yield {\n",
              "        response: {\n",
              "          action: 'append',\n",
              "          file: file.name,\n",
              "          data: base64,\n",
              "        },\n",
              "      };\n",
              "\n",
              "      let percentDone = fileData.byteLength === 0 ?\n",
              "          100 :\n",
              "          Math.round((position / fileData.byteLength) * 100);\n",
              "      percent.textContent = `${percentDone}% done`;\n",
              "\n",
              "    } while (position < fileData.byteLength);\n",
              "  }\n",
              "\n",
              "  // All done.\n",
              "  yield {\n",
              "    response: {\n",
              "      action: 'complete',\n",
              "    }\n",
              "  };\n",
              "}\n",
              "\n",
              "scope.google = scope.google || {};\n",
              "scope.google.colab = scope.google.colab || {};\n",
              "scope.google.colab._files = {\n",
              "  _uploadFiles,\n",
              "  _uploadFilesContinue,\n",
              "};\n",
              "})(self);\n",
              "</script> "
            ]
          },
          "metadata": {}
        },
        {
          "output_type": "stream",
          "name": "stdout",
          "text": [
            "Saving Screenshot 2023-09-05 at 9.48.49 AM.tif to Screenshot 2023-09-05 at 9.48.49 AM.tif\n",
            "Saving Screenshot 2023-09-05 at 9.48.55 AM.tif to Screenshot 2023-09-05 at 9.48.55 AM.tif\n",
            "Saving Screenshot 2023-09-05 at 9.49.00 AM.tif to Screenshot 2023-09-05 at 9.49.00 AM.tif\n",
            "Saving Screenshot 2023-09-05 at 9.49.06 AM.tif to Screenshot 2023-09-05 at 9.49.06 AM.tif\n",
            "Saving Screenshot 2023-09-05 at 9.49.14 AM.tif to Screenshot 2023-09-05 at 9.49.14 AM.tif\n",
            "Saving Screenshot 2023-09-05 at 9.49.20 AM.tif to Screenshot 2023-09-05 at 9.49.20 AM.tif\n",
            "Image 1 RGB values: R=162.41405577088716, G=160.6314599483204, B=149.697655192568\n",
            "Image 2 RGB values: R=172.6762016909979, G=156.8814582662883, B=87.06966955326058\n",
            "Image 3 RGB values: R=169.45902111454438, G=155.4095618528758, B=94.22198392692579\n",
            "Image 4 RGB values: R=165.20444061147185, G=151.35677421536798, B=88.14093614718615\n",
            "Image 5 RGB values: R=163.0407052588667, G=157.63843456991438, B=134.23120260905014\n",
            "Image 6 RGB values: R=152.34324415705169, G=138.0156375470183, B=76.32048166462393\n"
          ]
        },
        {
          "output_type": "display_data",
          "data": {
            "text/plain": [
              "<Figure size 640x480 with 1 Axes>"
            ],
            "image/png": "[encoded data removed]"
          },
          "metadata": {}
        },
        {
          "output_type": "display_data",
          "data": {
            "text/plain": [
              "<Figure size 640x480 with 1 Axes>"
            ],
            "image/png": "[encoded data removed]"
          },
          "metadata": {}
        },
        {
          "output_type": "display_data",
          "data": {
            "text/plain": [
              "<IPython.core.display.Javascript object>"
            ],
            "application/javascript": [
              "\n",
              "    async function download(id, filename, size) {\n",
              "      if (!google.colab.kernel.accessAllowed) {\n",
              "        return;\n",
              "      }\n",
              "      const div = document.createElement('div');\n",
              "      const label = document.createElement('label');\n",
              "      label.textContent = `Downloading \"${filename}\": `;\n",
              "      div.appendChild(label);\n",
              "      const progress = document.createElement('progress');\n",
              "      progress.max = size;\n",
              "      div.appendChild(progress);\n",
              "      document.body.appendChild(div);\n",
              "\n",
              "      const buffers = [];\n",
              "      let downloaded = 0;\n",
              "\n",
              "      const channel = await google.colab.kernel.comms.open(id);\n",
              "      // Send a message to notify the kernel that we're ready.\n",
              "      channel.send({})\n",
              "\n",
              "      for await (const message of channel.messages) {\n",
              "        // Send a message to notify the kernel that we're ready.\n",
              "        channel.send({})\n",
              "        if (message.buffers) {\n",
              "          for (const buffer of message.buffers) {\n",
              "            buffers.push(buffer);\n",
              "            downloaded += buffer.byteLength;\n",
              "            progress.value = downloaded;\n",
              "          }\n",
              "        }\n",
              "      }\n",
              "      const blob = new Blob(buffers, {type: 'application/binary'});\n",
              "      const a = document.createElement('a');\n",
              "      a.href = window.URL.createObjectURL(blob);\n",
              "      a.download = filename;\n",
              "      div.appendChild(a);\n",
              "      a.click();\n",
              "      div.remove();\n",
              "    }\n",
              "  "
            ]
          },
          "metadata": {}
        },
        {
          "output_type": "display_data",
          "data": {
            "text/plain": [
              "<IPython.core.display.Javascript object>"
            ],
            "application/javascript": [
              "download(\"download_625cb099-7ee2-462b-8313-f430902103ff\", \"calculated_values.csv\", 137)"
            ]
          },
          "metadata": {}
        },
        {
          "output_type": "display_data",
          "data": {
            "text/plain": [
              "<IPython.core.display.Javascript object>"
            ],
            "application/javascript": [
              "\n",
              "    async function download(id, filename, size) {\n",
              "      if (!google.colab.kernel.accessAllowed) {\n",
              "        return;\n",
              "      }\n",
              "      const div = document.createElement('div');\n",
              "      const label = document.createElement('label');\n",
              "      label.textContent = `Downloading \"${filename}\": `;\n",
              "      div.appendChild(label);\n",
              "      const progress = document.createElement('progress');\n",
              "      progress.max = size;\n",
              "      div.appendChild(progress);\n",
              "      document.body.appendChild(div);\n",
              "\n",
              "      const buffers = [];\n",
              "      let downloaded = 0;\n",
              "\n",
              "      const channel = await google.colab.kernel.comms.open(id);\n",
              "      // Send a message to notify the kernel that we're ready.\n",
              "      channel.send({})\n",
              "\n",
              "      for await (const message of channel.messages) {\n",
              "        // Send a message to notify the kernel that we're ready.\n",
              "        channel.send({})\n",
              "        if (message.buffers) {\n",
              "          for (const buffer of message.buffers) {\n",
              "            buffers.push(buffer);\n",
              "            downloaded += buffer.byteLength;\n",
              "            progress.value = downloaded;\n",
              "          }\n",
              "        }\n",
              "      }\n",
              "      const blob = new Blob(buffers, {type: 'application/binary'});\n",
              "      const a = document.createElement('a');\n",
              "      a.href = window.URL.createObjectURL(blob);\n",
              "      a.download = filename;\n",
              "      div.appendChild(a);\n",
              "      a.click();\n",
              "      div.remove();\n",
              "    }\n",
              "  "
            ]
          },
          "metadata": {}
        },
        {
          "output_type": "display_data",
          "data": {
            "text/plain": [
              "<IPython.core.display.Javascript object>"
            ],
            "application/javascript": [
              "download(\"download_4f6143f9-3f21-4bb5-a98f-79065ee2536d\", \"calculated_values_modified.csv\", 121)"
            ]
          },
          "metadata": {}
        },
        {
          "output_type": "display_data",
          "data": {
            "text/plain": [
              "<IPython.core.display.Javascript object>"
            ],
            "application/javascript": [
              "\n",
              "    async function download(id, filename, size) {\n",
              "      if (!google.colab.kernel.accessAllowed) {\n",
              "        return;\n",
              "      }\n",
              "      const div = document.createElement('div');\n",
              "      const label = document.createElement('label');\n",
              "      label.textContent = `Downloading \"${filename}\": `;\n",
              "      div.appendChild(label);\n",
              "      const progress = document.createElement('progress');\n",
              "      progress.max = size;\n",
              "      div.appendChild(progress);\n",
              "      document.body.appendChild(div);\n",
              "\n",
              "      const buffers = [];\n",
              "      let downloaded = 0;\n",
              "\n",
              "      const channel = await google.colab.kernel.comms.open(id);\n",
              "      // Send a message to notify the kernel that we're ready.\n",
              "      channel.send({})\n",
              "\n",
              "      for await (const message of channel.messages) {\n",
              "        // Send a message to notify the kernel that we're ready.\n",
              "        channel.send({})\n",
              "        if (message.buffers) {\n",
              "          for (const buffer of message.buffers) {\n",
              "            buffers.push(buffer);\n",
              "            downloaded += buffer.byteLength;\n",
              "            progress.value = downloaded;\n",
              "          }\n",
              "        }\n",
              "      }\n",
              "      const blob = new Blob(buffers, {type: 'application/binary'});\n",
              "      const a = document.createElement('a');\n",
              "      a.href = window.URL.createObjectURL(blob);\n",
              "      a.download = filename;\n",
              "      div.appendChild(a);\n",
              "      a.click();\n",
              "      div.remove();\n",
              "    }\n",
              "  "
            ]
          },
          "metadata": {}
        },
        {
          "output_type": "display_data",
          "data": {
            "text/plain": [
              "<IPython.core.display.Javascript object>"
            ],
            "application/javascript": [
              "download(\"download_c534b26a-623a-492c-b4c7-e2bcbdf93d59\", \"expression_plot.jpg\", 102623)"
            ]
          },
          "metadata": {}
        },
        {
          "output_type": "display_data",
          "data": {
            "text/plain": [
              "<IPython.core.display.Javascript object>"
            ],
            "application/javascript": [
              "\n",
              "    async function download(id, filename, size) {\n",
              "      if (!google.colab.kernel.accessAllowed) {\n",
              "        return;\n",
              "      }\n",
              "      const div = document.createElement('div');\n",
              "      const label = document.createElement('label');\n",
              "      label.textContent = `Downloading \"${filename}\": `;\n",
              "      div.appendChild(label);\n",
              "      const progress = document.createElement('progress');\n",
              "      progress.max = size;\n",
              "      div.appendChild(progress);\n",
              "      document.body.appendChild(div);\n",
              "\n",
              "      const buffers = [];\n",
              "      let downloaded = 0;\n",
              "\n",
              "      const channel = await google.colab.kernel.comms.open(id);\n",
              "      // Send a message to notify the kernel that we're ready.\n",
              "      channel.send({})\n",
              "\n",
              "      for await (const message of channel.messages) {\n",
              "        // Send a message to notify the kernel that we're ready.\n",
              "        channel.send({})\n",
              "        if (message.buffers) {\n",
              "          for (const buffer of message.buffers) {\n",
              "            buffers.push(buffer);\n",
              "            downloaded += buffer.byteLength;\n",
              "            progress.value = downloaded;\n",
              "          }\n",
              "        }\n",
              "      }\n",
              "      const blob = new Blob(buffers, {type: 'application/binary'});\n",
              "      const a = document.createElement('a');\n",
              "      a.href = window.URL.createObjectURL(blob);\n",
              "      a.download = filename;\n",
              "      div.appendChild(a);\n",
              "      a.click();\n",
              "      div.remove();\n",
              "    }\n",
              "  "
            ]
          },
          "metadata": {}
        },
        {
          "output_type": "display_data",
          "data": {
            "text/plain": [
              "<IPython.core.display.Javascript object>"
            ],
            "application/javascript": [
              "download(\"download_c98708c4-b2cf-4370-9bab-75fcfb7e9e0b\", \"expression_plot_modified.jpg\", 102873)"
            ]
          },
          "metadata": {}
        }
      ],
      "source": [
        "import csv\n",
        "def main():\n",
        "    # Ask the user to upload the 6 images.\n",
        "    prompt = \"Upload the 6 cropped images/conditions in order (NC, PC, NT, RT, YT, BT)\"\n",
        "    uploaded_files = files.upload()\n",
        "\n",
        "    # Sort uploaded files based on creation time\n",
        "    sorted_files = sorted(uploaded_files.keys(), key=lambda file: os.path.getctime(file))\n",
        "\n",
        "    # Ensure there are exactly 6 files uploaded\n",
        "    if len(sorted_files) != 6:\n",
        "        print(\"Please upload exactly 6 images.\")\n",
        "        return\n",
        "\n",
        "    # Compute the original RGB values and expression values\n",
        "    total_rgb = rgb_analysis(*sorted_files)\n",
        "    express_vals = relative_expression(total_rgb)\n",
        "\n",
        "    # Create a new set of data by multiplying values by 100\n",
        "    final_a_new = [val * 100 for val in express_vals]\n",
        "\n",
        "    # Apply conditions - make 100 if greater than 100; make 0 if less than 0\n",
        "    final_a_new = [min(max(val, 0), 100) for val in final_a_new]\n",
        "\n",
        "    # Plot the expression values and save the graphs\n",
        "    expression_plot(express_vals, filename='expression_plot.jpg')\n",
        "    expression_plot(final_a_new, filename='expression_plot_modified.jpg')\n",
        "\n",
        "    # Save original and modified expression values to CSV files\n",
        "    with open('calculated_values.csv', 'w', newline='') as csvfile:\n",
        "        csv_writer = csv.writer(csvfile)\n",
        "        csv_writer.writerow(['Condition', 'Expression Value'])  # Write header\n",
        "        conditions = ['NC', 'PC', 'NT', 'RT', 'YT', 'BT']\n",
        "        for i in range(len(conditions)):\n",
        "            csv_writer.writerow([conditions[i], express_vals[i]])\n",
        "\n",
        "    with open('calculated_values_modified.csv', 'w', newline='') as csvfile:\n",
        "        csv_writer = csv.writer(csvfile)\n",
        "        csv_writer.writerow(['Condition', 'Expression Value'])  # Write header\n",
        "        for i in range(len(conditions)):\n",
        "            csv_writer.writerow([conditions[i], final_a_new[i]])\n",
        "\n",
        "    # Download both CSV files and JPG files to your local machine's Downloads folder\n",
        "    files.download('calculated_values.csv')\n",
        "    files.download('calculated_values_modified.csv')\n",
        "    files.download('expression_plot.jpg')\n",
        "    files.download('expression_plot_modified.jpg')\n",
        "\n",
        "\n",
        "\n",
        "if __name__ == \"__main__\":\n",
        "    main()\n"
      ]
    },
    {
      "cell_type": "code",
      "source": [],
      "metadata": {
        "id": "fuzaQ3E8qrgC"
      },
      "execution_count": null,
      "outputs": []
    }
  ],
  "metadata": {
    "colab": {
      "provenance": [],
      "include_colab_link": true
    },
    "kernelspec": {
      "display_name": "Python 3",
      "name": "python3"
    },
    "language_info": {
      "name": "python"
    }
  },
  "nbformat": 4,
  "nbformat_minor": 0
}